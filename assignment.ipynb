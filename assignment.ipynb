{
 "cells": [
  {
   "cell_type": "code",
   "execution_count": 47,
   "metadata": {},
   "outputs": [],
   "source": [
    "#!\\users\\annie\\appdata\\programs\\python\n",
    "from tkinter import *\n",
    "from datetime import timedelta\n",
    "import datetime\n",
    "import decimal\n",
    "import sys\n",
    "import pandas as pd"
   ]
  },
  
 {
   "cell_type": "code",
   "execution_count": 50,
   "metadata": {},
   "outputs": [],
   "source": [
    "#Start button\n",
    "btn = Button(window, text=\"START\",command=calculate_date_time,background='light blue')\n",
    "btn.grid(column=0, row=2)\n",
    "\n",
    "lbl3 = Label(window, text=\"Enter amount then click Stop\", font=(\"Time New Romans\", 20),background='light blue')\n",
    "lbl3.grid(column=0, row=4)\n",
    "\n",
    "lbl5 = Label(window, text=\"Amount per hour:\", font=(\"Time New Romans\", 20),background='light blue')\n",
    "lbl5.grid(column=0, row=5)\n",
    "\n",
    "#variable that holds how much he earns\n",
    "earn_per_hour = Entry(window,width=10)\n",
    "earn_per_hour.grid(column=0, row=6)\n",
    "earn_per_hour.focus()\n",
    "\n",
    "lbl9 = Label(window, text=\"Hours spent:\", font=(\"Time New Romans\", 20),background='light blue')\n",
    "lbl9.grid(column=0,row=7)\n",
    "\n",
    "lbl6 = Label(window, text=\"You have earned ($):\", font=(\"Time New Romans\", 20),background='light blue')\n",
    "lbl6.grid(column=0,row=9)\n",
    "\n",
    "lbl7 = Label(window, font=(\"Time New Romans\", 10),background='light blue')\n",
    "lbl7.grid(column=0,row=10)"
   ]
  },
  {
   "cell_type": "code",
   "execution_count": 51,
   "metadata": {},
   "outputs": [],
   "source": [
    "#function that stores your stop time and takes your start time and calculates your earnings\n",
    "def money_made():\n",
    "    #getting time for stop work\n",
    "    global date_time2\n",
    "    global total_hours\n",
    "    global total_amount\n",
    "\n",
    "    now2 = datetime.datetime.now()\n",
    "    date_time2=now2.strftime(\"%H:%M\")\n",
    "\n",
    "\n",
    "    h=only_date\n",
    "    delta = timedelta(hours=int(h.split(':')[0]), minutes=int(h.split(':')[1]))\n",
    "    hour1 = delta.total_seconds()/3600\n",
    "   \n",
    "\n",
    "    h2=date_time2\n",
    "    delta2 = timedelta(hours=int(h2.split(':')[0]), minutes=int(h2.split(':')[1]))\n",
    "    hour2 = delta2.total_seconds()/3600\n",
    "   \n",
    "    \n",
    "    #amount he earns\n",
    "    amount_earned=float(earn_per_hour.get())\n",
    "    \n",
    "    \n",
    "    total_hours=round(hour2-hour1,1)\n",
    "    total_amount= total_hours*amount_earned\n",
    "    \n",
    "    #displays the hours spent working\n",
    "    lbl8.configure(text=total_hours)\n",
    "\n",
    "    #displays the amount earned\n",
    "    lbl7.configure(text=total_amount)\n",
    "    \n",
    "    original_stdout=sys.stdout\n",
    "\n",
    "    #passes all information to a csv file\n",
    "    with open('C:/Users/Papa Jay/Desktop/Azubi work/codes/detail.csv','a') as writefile:\n",
    "        sys.stdout= writefile\n",
    "        info={'Time started':[only_date],'Time stopped':[date_time2],'Hours spent':[total_hours],'Amount earned':[total_amount]}\n",
    "        info_frame=pd.DataFrame(info)\n",
    "        writefile.write(str(info_frame))\n",
    "        writefile.write('\\n')\n",
    "        writefile.close()\n",
    "        sys.stdout=original_stdout"
   ]
  },
  {
   "cell_type": "code",
   "execution_count": null,
   "metadata": {},
   "outputs": [],
   "source": [
    "lbl8 = Label(window, font=(\"Time New Romans\", 10),background='light blue')\n",
    "lbl8.grid(column=0,row=8)  \n",
    "\n",
    "\n",
    "   \n",
    " #stop button \n",
    "btn2 = Button(window, text=\"STOP\",command=money_made,background='light blue')\n",
    "btn2.grid(column=0, row=11)\n",
    "\n",
    "\n",
    "\n",
    "window.mainloop()"
   ]
  },
  {
   "cell_type": "code",
   "execution_count": null,
   "metadata": {},
   "outputs": [],
   "source": []
  }
 ],
 "metadata": {
  "kernelspec": {
   "display_name": "Python 3",
   "language": "python",
   "name": "python3"
  },
  "language_info": {
   "codemirror_mode": {
    "name": "ipython",
    "version": 3
   },
   "file_extension": ".py",
   "mimetype": "text/x-python",
   "name": "python",
   "nbconvert_exporter": "python",
   "pygments_lexer": "ipython3",
   "version": "3.7.6"
  }
 },
 "nbformat": 4,
 "nbformat_minor": 4
}
